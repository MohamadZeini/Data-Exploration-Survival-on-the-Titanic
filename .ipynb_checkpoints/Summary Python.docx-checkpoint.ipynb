{
 "cells": [
  {
   "cell_type": "code",
   "execution_count": 250,
   "metadata": {
    "collapsed": false
   },
   "outputs": [
    {
     "name": "stdout",
     "output_type": "stream",
     "text": [
      "['a', 'z', 'A', 'Z']\n",
      "[\n",
      "False\n"
     ]
    },
    {
     "data": {
      "text/plain": [
       "['abcdef']"
      ]
     },
     "execution_count": 250,
     "metadata": {},
     "output_type": "execute_result"
    }
   ],
   "source": [
    "import re\n",
    "my = re.compile(r'[az]', re.IGNORECASE)\n",
    "m=my.findall('azcdAZ')\n",
    "print m\n",
    "z =[ord(i.lower())-96 for i in m]\n",
    "#z= str(z)\n",
    "print '-'.join(str(z))[0]\n",
    "a=[1,2,3,4,5,4]\n",
    "b=['a','b','c']\n",
    "c=['abcdef','ab']\n",
    "a.count(6)\n",
    "c.count('ab')\n",
    "am = (x for x in a if x/5 ==1)\n",
    "a.sort()\n",
    "#a.remove(i)\n",
    "'A' in '[a-z]'\n",
    "ord('z')\n",
    "f =['b','a','c']\n",
    "#f.sort()\n",
    "print f == b\n",
    "t='abcdef'\n",
    "y= ['ef']\n",
    "list(t)\n",
    "[t]"
   ]
  },
  {
   "cell_type": "code",
   "execution_count": 193,
   "metadata": {
    "collapsed": false
   },
   "outputs": [
    {
     "data": {
      "text/plain": [
       "'1 2 3 4 5 4'"
      ]
     },
     "execution_count": 193,
     "metadata": {},
     "output_type": "execute_result"
    }
   ],
   "source": [
    "a=[1,2,3,4,5,4]\n",
    "\" \".join(str(i) for i in a)"
   ]
  },
  {
   "cell_type": "code",
   "execution_count": 209,
   "metadata": {
    "collapsed": false
   },
   "outputs": [
    {
     "data": {
      "text/plain": [
       "2"
      ]
     },
     "execution_count": 209,
     "metadata": {},
     "output_type": "execute_result"
    }
   ],
   "source": [
    "a = set(['abracadabra'])\n",
    "b= {'a':1, 'b':3}\n",
    "len(b)\n",
    "'f'+'g'\n",
    "max([1,2])"
   ]
  },
  {
   "cell_type": "code",
   "execution_count": 48,
   "metadata": {
    "collapsed": false
   },
   "outputs": [
    {
     "data": {
      "text/plain": [
       "dict"
      ]
     },
     "execution_count": 48,
     "metadata": {},
     "output_type": "execute_result"
    }
   ],
   "source": [
    "d=dict()\n",
    "d={x:x**2 for x in range(1,10,2)}\n",
    "type(d)"
   ]
  },
  {
   "cell_type": "code",
   "execution_count": 49,
   "metadata": {
    "collapsed": false
   },
   "outputs": [
    {
     "name": "stdout",
     "output_type": "stream",
     "text": [
      "a\n",
      "b\n"
     ]
    }
   ],
   "source": []
  },
  {
   "cell_type": "code",
   "execution_count": 94,
   "metadata": {
    "collapsed": false
   },
   "outputs": [
    {
     "data": {
      "text/plain": [
       "5"
      ]
     },
     "execution_count": 94,
     "metadata": {},
     "output_type": "execute_result"
    }
   ],
   "source": [
    "def find_it(seq):\n",
    "    d={}\n",
    "    for i in seq:\n",
    "        if i in d.keys():\n",
    "            d[i] +=1\n",
    "        else:\n",
    "            d[i] =1\n",
    "    v = d.values()\n",
    "    return [k for k in d.keys() if d[k]%2 == 1][0]\n",
    "    #return None\n",
    "find_it([20,1,-1,2,-2,3,3,5,5,1,2,4,20,4,-1,-2,5])"
   ]
  },
  {
   "cell_type": "code",
   "execution_count": 148,
   "metadata": {
    "collapsed": false
   },
   "outputs": [
    {
     "name": "stdout",
     "output_type": "stream",
     "text": [
      "[25]\n",
      "[25, 25]\n",
      "[50, 25, 25]\n",
      "[25, 0]\n",
      "[50, 0, 25]\n",
      "YES\n",
      "[25]\n",
      "[25, 25]\n",
      "[25, 25, 25]\n",
      "[100, 25, 25, 25]\n",
      "[75, 50]\n",
      "[100, 0, 25, 25]\n",
      "[50, 25]\n",
      "[100, 0, 0, 25]\n",
      "[25, 0]\n",
      "[100, 0, 0, 0]\n",
      "YES\n"
     ]
    }
   ],
   "source": [
    "def tickets(people):\n",
    "    a=[]\n",
    "    for p in people:\n",
    "        a = [i for i in a if i!=0]                \n",
    "        a.append(p)\n",
    "        p = p-25\n",
    "        a.sort()\n",
    "        a.reverse()\n",
    "        print a\n",
    "        if p > 0:\n",
    "            for i, v in enumerate(a):\n",
    "                if p > 0:\n",
    "                    if v <= p:\n",
    "                        print [p,p-v]\n",
    "                        \n",
    "                        p = p-v\n",
    "                        a[i] = 0\n",
    "                        print (a)\n",
    "            if p > 0:\n",
    "                return 'NO'\n",
    "    return \"YES\"\n",
    "\n",
    "print tickets([25, 25, 50])\n",
    "print tickets([25, 25, 25, 100])"
   ]
  },
  {
   "cell_type": "code",
   "execution_count": 207,
   "metadata": {
    "collapsed": false
   },
   "outputs": [
    {
     "data": {
      "text/plain": [
       "'Lisa, Maggie, Homer & Marge'"
      ]
     },
     "execution_count": 207,
     "metadata": {},
     "output_type": "execute_result"
    }
   ],
   "source": [
    "def namelist(names):\n",
    "    tx = ''\n",
    "    for i, v in enumerate(names):\n",
    "        if i==1:\n",
    "            tx  = v['name']\n",
    "        elif i == len(names)-1:\n",
    "            tx = tx  + ' & '+ v['name']\n",
    "        else:\n",
    "            tx = tx  + ', '+ v['name']\n",
    "    return tx\n",
    "\n",
    "namelist([{'name': 'Bart'},{'name': 'Lisa'},{'name': 'Maggie'},{'name': 'Homer'},{'name': 'Marge'}])"
   ]
  },
  {
   "cell_type": "code",
   "execution_count": 217,
   "metadata": {
    "collapsed": false
   },
   "outputs": [
    {
     "name": "stdout",
     "output_type": "stream",
     "text": [
      "None\n",
      "[3, 2, 1, 1]\n"
     ]
    }
   ],
   "source": [
    "def sqInRect(lng, wdth):\n",
    "    # your code\n",
    "    a=[]\n",
    "    l = lng\n",
    "    w = wdth\n",
    "    if l==w:\n",
    "        return None\n",
    "    else:\n",
    "        while lng > wdth:\n",
    "            a.append(wdth)\n",
    "            lng = max(l-w, w)\n",
    "            wdth = min(l-w, w)\n",
    "            l = lng\n",
    "            w = wdth\n",
    "        a.append(wdth)\n",
    "        return a\n",
    "    #return None\n",
    "\n",
    "print sqInRect(5, 5)\n",
    "print sqInRect(5, 3)"
   ]
  },
  {
   "cell_type": "code",
   "execution_count": 306,
   "metadata": {
    "collapsed": false
   },
   "outputs": [
    {
     "name": "stdout",
     "output_type": "stream",
     "text": [
      "['a', 'a', 'k', 's', 't']\n",
      "['a', 'e', 'k', 's', 't']\n"
     ]
    },
    {
     "data": {
      "text/plain": [
       "False"
      ]
     },
     "execution_count": 306,
     "metadata": {},
     "output_type": "execute_result"
    }
   ],
   "source": [
    "import re\n",
    "def scramble(s1,s2):\n",
    "    #exp = ''[\"+s2+\"]'\"\n",
    "   # print exp\n",
    "    my = re.compile(r\"\"+\"[\"+s2+\"]\", re.IGNORECASE)\n",
    "\n",
    "    t1 = my.findall(s1)\n",
    "    t1.sort()\n",
    "    print t1\n",
    "    t2= list(s2)\n",
    "    t2.sort()\n",
    "    print t2\n",
    "    return (t1 == t2)\n",
    "scramble('katas', 'steak')"
   ]
  },
  {
   "cell_type": "code",
   "execution_count": 310,
   "metadata": {
    "collapsed": false
   },
   "outputs": [
    {
     "data": {
      "text/plain": [
       "True"
      ]
     },
     "execution_count": 310,
     "metadata": {},
     "output_type": "execute_result"
    }
   ],
   "source": [
    "def scramble(s1,s2):\n",
    "    for w in s2:\n",
    "        if s2.count(w) < s1.count(w):\n",
    "            return False\n",
    "    return True\n",
    "scramble('ketas', 'steak')"
   ]
  },
  {
   "cell_type": "code",
   "execution_count": 305,
   "metadata": {
    "collapsed": false
   },
   "outputs": [
    {
     "data": {
      "text/plain": [
       "['yui']"
      ]
     },
     "execution_count": 305,
     "metadata": {},
     "output_type": "execute_result"
    }
   ],
   "source": [
    "'yui'.split()\n"
   ]
  },
  {
   "cell_type": "code",
   "execution_count": 316,
   "metadata": {
    "collapsed": false
   },
   "outputs": [
    {
     "data": {
      "text/plain": [
       "'e'"
      ]
     },
     "execution_count": 316,
     "metadata": {},
     "output_type": "execute_result"
    }
   ],
   "source": [
    "def find_missing_letter(chars):\n",
    "    for i in range(1,len(chars)):\n",
    "        if ord(chars[i]) != ord(chars[i-1])+1:\n",
    "            return chr(ord(chars[i-1])+1)\n",
    "                   \n",
    "find_missing_letter(['a','b','c','d','f'])"
   ]
  },
  {
   "cell_type": "code",
   "execution_count": 329,
   "metadata": {
    "collapsed": false
   },
   "outputs": [
    {
     "data": {
      "text/plain": [
       "'cba'"
      ]
     },
     "execution_count": 329,
     "metadata": {},
     "output_type": "execute_result"
    }
   ],
   "source": [
    "a= list('abc')\n",
    "a.reverse()\n",
    "\"\".join(a)"
   ]
  },
  {
   "cell_type": "code",
   "execution_count": 331,
   "metadata": {
    "collapsed": false
   },
   "outputs": [
    {
     "data": {
      "text/plain": [
       "6"
      ]
     },
     "execution_count": 331,
     "metadata": {},
     "output_type": "execute_result"
    }
   ],
   "source": [
    "sum([1,2,3])"
   ]
  },
  {
   "cell_type": "code",
   "execution_count": 332,
   "metadata": {
    "collapsed": false
   },
   "outputs": [
    {
     "data": {
      "text/plain": [
       "['1', '2', '3']"
      ]
     },
     "execution_count": 332,
     "metadata": {},
     "output_type": "execute_result"
    }
   ],
   "source": [
    "list('123')"
   ]
  },
  {
   "cell_type": "code",
   "execution_count": 341,
   "metadata": {
    "collapsed": false
   },
   "outputs": [
    {
     "data": {
      "text/plain": [
       "'ghg'"
      ]
     },
     "execution_count": 341,
     "metadata": {},
     "output_type": "execute_result"
    }
   ],
   "source": [
    "a='fghghy'\n",
    "b=a[1:4]\n",
    "b\n"
   ]
  },
  {
   "cell_type": "code",
   "execution_count": 3,
   "metadata": {
    "collapsed": false
   },
   "outputs": [
    {
     "name": "stdout",
     "output_type": "stream",
     "text": [
      "18\n",
      "73304\n",
      "9910872815764\n",
      "99108\n",
      "72815764\n",
      "72815\n",
      "764\n"
     ]
    },
    {
     "data": {
      "text/plain": [
       "''"
      ]
     },
     "execution_count": 3,
     "metadata": {},
     "output_type": "execute_result"
    }
   ],
   "source": [
    "def revrot(strng, sz):\n",
    "    if sz ==0 or strng =='':\n",
    "        return ''\n",
    "    newstr = ''\n",
    "    print len(strng)\n",
    "    while len(strng) >= sz:\n",
    "        chu = strng[:sz]\n",
    "        strng =strng[sz:]\n",
    "        print chu\n",
    "        print strng\n",
    "        arr = list(chu)\n",
    "        arrsq = [int(i)**3 for i in arr]\n",
    "        arrsqs = sum(arrsq)\n",
    "        if arrsqs/2 ==0:\n",
    "            arr.reverse()\n",
    "            chunew =''.join(arr)\n",
    "        else:\n",
    "            arr.append(arr[0])\n",
    "            del arr[0]\n",
    "            chunew =''.join(arr)\n",
    "        newstr += chunew\n",
    "    return newstr\n",
    "    # your code\n",
    "revrot(\"733049910872815764\", 5)\n",
    "revrot(\"1234\", 0)"
   ]
  },
  {
   "cell_type": "code",
   "execution_count": 5,
   "metadata": {
    "collapsed": false
   },
   "outputs": [
    {
     "data": {
      "text/plain": [
       "'hpo'"
      ]
     },
     "execution_count": 5,
     "metadata": {},
     "output_type": "execute_result"
    }
   ],
   "source": [
    "p='oph'\n",
    "p[::-1]"
   ]
  },
  {
   "cell_type": "code",
   "execution_count": null,
   "metadata": {
    "collapsed": true
   },
   "outputs": [],
   "source": [
    "def hasBalancedBrackets(str):\n",
    "    open=['(', '{', '[', '<']\n",
    "    close=[')', '}', ']', '>']\n",
    "    arr = list(arr)\n",
    "    # WRITE YOUR CODE HERE\n",
    "    \n",
    "hasBalancedBrackets(hasBalancedBrackets)"
   ]
  },
  {
   "cell_type": "code",
   "execution_count": 44,
   "metadata": {
    "collapsed": false
   },
   "outputs": [
    {
     "data": {
      "text/plain": [
       "3"
      ]
     },
     "execution_count": 44,
     "metadata": {},
     "output_type": "execute_result"
    }
   ],
   "source": [
    "def bstDistance(values, n, node1, node2): \n",
    "    if  (node1 not in values) or (node2 not in values) or (len(values) != n):\n",
    "        return -1\n",
    "    # ===============\n",
    "    arr=[]\n",
    "    arr[:] = values\n",
    "    arr.reverse()\n",
    "    disroot1= 0\n",
    "    dis1= 0\n",
    "    n1 = -1\n",
    "    n2 = -1\n",
    "    arr.pop()\n",
    "    while n1 != node1 and n2 != node1 :\n",
    "        if (len(arr) >= 2) and (arr[-1] <= arr[-2]):\n",
    "            n1 = arr.pop()\n",
    "            n2 = arr.pop()\n",
    "            dis1 +=1\n",
    "        else:\n",
    "            n1 = arr.pop()\n",
    "            dis1 +=1\n",
    "    # ===============\n",
    "    arr[:] = values\n",
    "    arr.reverse()\n",
    "    disroot2= 0\n",
    "    dis2= 0\n",
    "    n1 = -1\n",
    "    n2 = -1\n",
    "    arr.pop()\n",
    "    while n1 != node2 and n2 != node2 :\n",
    "        if (len(arr) >= 2) and (arr[-1] <= arr[-2]):\n",
    "            n1 = arr.pop()\n",
    "            n2 = arr.pop()\n",
    "            dis2 +=1\n",
    "        else:\n",
    "            n1 = arr.pop()\n",
    "            dis2 +=1\n",
    "    dis0 = min((dis1-1),(dis1-1) )\n",
    "    dist = dis1+dis2-2*dis0\n",
    "    return dist\n",
    "            \n",
    "bstDistance([5,6,3,1,2,4],6,2,4)\n"
   ]
  },
  {
   "cell_type": "code",
   "execution_count": null,
   "metadata": {
    "collapsed": false
   },
   "outputs": [],
   "source": []
  },
  {
   "cell_type": "code",
   "execution_count": null,
   "metadata": {
    "collapsed": true
   },
   "outputs": [],
   "source": []
  }
 ],
 "metadata": {
  "anaconda-cloud": {},
  "kernelspec": {
   "display_name": "Python [conda env:DAND]",
   "language": "python",
   "name": "conda-env-DAND-py"
  },
  "language_info": {
   "codemirror_mode": {
    "name": "ipython",
    "version": 2
   },
   "file_extension": ".py",
   "mimetype": "text/x-python",
   "name": "python",
   "nbconvert_exporter": "python",
   "pygments_lexer": "ipython2",
   "version": "2.7.12"
  }
 },
 "nbformat": 4,
 "nbformat_minor": 2
}
